{
 "cells": [
  {
   "cell_type": "code",
   "execution_count": 1,
   "id": "84e10be7-98b7-4efe-b9e4-4f1b3ac980b4",
   "metadata": {},
   "outputs": [],
   "source": [
    "import hydrant.gis.gis as gis\n",
    "import pandas as pd\n",
    "import numpy as np\n",
    "from typing import Dict, Union\n",
    "from itertools import product\n"
   ]
  },
  {
   "cell_type": "markdown",
   "id": "2688eeb7-78c9-4b25-879f-d64485ec3128",
   "metadata": {},
   "source": [
    "## Illustrative examples"
   ]
  },
  {
   "cell_type": "code",
   "execution_count": 2,
   "id": "f5dc12dd-2f4e-487a-800e-5f96ab59d021",
   "metadata": {},
   "outputs": [
    {
     "name": "stdout",
     "output_type": "stream",
     "text": [
      "The indexes of all DataFrames are exactly the same with the same order.\n",
      "total number of non zero combinations:  7\n",
      "     comb_0001  comb_0002  comb_0003  comb_0004  comb_0005  comb_0006  \\\n",
      "ID1                                                                     \n",
      "1          0.3        0.5        0.0       0.00       0.00       0.00   \n",
      "2          0.0        0.0        1.0       0.00       0.00       0.00   \n",
      "3          0.0        0.0        0.0       0.15       0.35       0.15   \n",
      "\n",
      "     comb_0007  \n",
      "ID1             \n",
      "1         0.20  \n",
      "2         0.00  \n",
      "3         0.35  \n",
      "     Combinations LULC  S ASP  comb\n",
      "0  LULC_1 S2 ASP2    1  2   2     1\n",
      "1  LULC_3 S2 ASP2    3  2   2     2\n",
      "2  LULC_4 S1 ASP1    4  1   1     3\n",
      "3  LULC_5 S1 ASP1    5  1   1     4\n",
      "4  LULC_5 S1 ASP2    5  1   2     5\n",
      "5  LULC_5 S2 ASP1    5  2   1     6\n",
      "6  LULC_5 S2 ASP2    5  2   2     7\n"
     ]
    }
   ],
   "source": [
    "# Sample DataFrames\n",
    "data1 = {\n",
    "    'ID1': [1,   2,  3],\n",
    "    'A_1': [0.3, 0,  0],\n",
    "    'A_2': [0,   0,  0],\n",
    "    'A_3': [0.5, 0,  0],\n",
    "    'A_4': [0,   1,  0],\n",
    "    'A_5': [0.2, 0,  1],\n",
    "    'B':   ['B','B','B'],\n",
    "}\n",
    "\n",
    "data2 = {\n",
    "    'ID2': [1, 2, 3  ],\n",
    "    'B1':  [0, 1, 0.5],\n",
    "    'B2':  [1, 0, 0.5]\n",
    "}\n",
    "\n",
    "data3 = {\n",
    "    'ID3': [1, 2,   3],\n",
    "    'C1':  [0, 1, 0.3],\n",
    "    'C2':  [1, 0, 0.7],\n",
    "    'D':   [1, 1,   1]\n",
    "}\n",
    "\n",
    "# Create DataFrames\n",
    "df1 = pd.DataFrame(data1)\n",
    "df2 = pd.DataFrame(data2)\n",
    "df3 = pd.DataFrame(data3)\n",
    "\n",
    "# Usage example:\n",
    "result, report    = gis.intersect_df(df1, df2, df3, \n",
    "                                     df_mappings={'df1': {'id': 'ID1', 'prefix':'A' , 'data_name':'LULC'}, \n",
    "                                                  'df2': {'id': 'ID2', 'prefix':'B' , 'data_name':'S'}, \n",
    "                                                  'df3': {'id': 'ID3', 'prefix':'C' , 'data_name':'ASP'}},\n",
    "                                     remove_zero_combinations = True)\n",
    "\n",
    "print(result)\n",
    "print(report)"
   ]
  },
  {
   "cell_type": "code",
   "execution_count": 3,
   "id": "25059d93-aedf-4e54-b160-c37ff9184c19",
   "metadata": {},
   "outputs": [
    {
     "name": "stdout",
     "output_type": "stream",
     "text": [
      "    Frac_1  Frac_2  Frac_3  Frac_4\n",
      "ID                                \n",
      "10     0.0     0.5     0.6     0.0\n",
      "20     0.2     0.5     0.3     0.0\n",
      "30     0.0     0.0     0.0     0.0\n",
      "    Frac_1    Frac_2    Frac_3  Frac_4\n",
      "ID                                    \n",
      "10     0.0  0.454545  0.545455     0.0\n",
      "20     0.2  0.500000  0.300000     0.0\n",
      "30     0.0  1.000000  0.000000     0.0\n"
     ]
    }
   ],
   "source": [
    "# Your DataFrame\n",
    "data = {\n",
    "    'ID': [10,20,30],\n",
    "    'Frac_1': [0.0, 0.2, 0.0],\n",
    "    'Frac_2': [0.5, 0.5, 0.0],\n",
    "    'Frac_3': [0.6, 0.3, 0.0],\n",
    "    'Frac_4': [0.0, 0.0, 0.0],\n",
    "}\n",
    "\n",
    "df = pd.DataFrame(data)\n",
    "\n",
    "df_modified = gis.manipulating_fractions(df,\n",
    "                                         df_mapping={'id':'ID', 'prefix': 'Frac_'},\n",
    "                                         action = 'normalize',\n",
    "                                         minimum_value = 0.20)\n",
    "\n",
    "print(df)\n",
    "print(df_modified)"
   ]
  },
  {
   "cell_type": "code",
   "execution_count": 4,
   "id": "544e9aa2-8918-4426-96b9-a2c225dd658d",
   "metadata": {},
   "outputs": [
    {
     "name": "stdout",
     "output_type": "stream",
     "text": [
      "    Frac_1  Frac_2  Frac_3  Frac_4\n",
      "ID                                \n",
      "10     0.0     0.5     0.6     0.0\n",
      "20     0.2     0.5     0.3     0.0\n",
      "30     0.0     0.0     0.0     0.0\n",
      "    Frac_1  Frac_2  Frac_3  Frac_4\n",
      "ID                                \n",
      "10     0.0     0.0     1.0     0.0\n",
      "20     0.0     1.0     0.0     0.0\n",
      "30     0.0     1.0     0.0     0.0\n"
     ]
    }
   ],
   "source": [
    "# Your DataFrame\n",
    "data = {\n",
    "    'ID': [10,20,30],\n",
    "    'Frac_1': [0.0, 0.2, 0.0],\n",
    "    'Frac_2': [0.5, 0.5, 0.0],\n",
    "    'Frac_3': [0.6, 0.3, 0.0],\n",
    "    'Frac_4': [0.0, 0.0, 0.0],\n",
    "}\n",
    "\n",
    "df = pd.DataFrame(data)\n",
    "\n",
    "df_modified = gis.manipulating_fractions(df,\n",
    "                                         df_mapping={'id':'ID', 'prefix': 'Frac_'},\n",
    "                                         action = 'majority')\n",
    "\n",
    "print(df)\n",
    "print(df_modified)"
   ]
  },
  {
   "cell_type": "markdown",
   "id": "8d9c4c90-b37c-4ff7-9648-49a3411f25eb",
   "metadata": {},
   "source": [
    "## Real case"
   ]
  },
  {
   "cell_type": "code",
   "execution_count": 5,
   "id": "c824c90a-88b4-47a8-83f6-ccbee4a7f963",
   "metadata": {},
   "outputs": [
    {
     "name": "stdout",
     "output_type": "stream",
     "text": [
      "The indexes of all DataFrames are exactly the same with the same order.\n",
      "total number of non zero combinations:  15\n",
      "          comb_0001  comb_0002  comb_0003  comb_0004  comb_0005  comb_0006  \\\n",
      "COMID                                                                        \n",
      "71022153   0.000000        0.0        0.0   0.072815   0.000000   0.000000   \n",
      "71022160   0.000000        0.0        0.0   0.000000   0.000000   0.000000   \n",
      "71022164   0.000000        0.0        0.0   0.000000   0.000000   0.000000   \n",
      "71022165   0.108643        0.0        0.0   0.000000   0.000000   0.068153   \n",
      "71022168   0.000000        0.0        0.0   0.000000   0.000000   0.000000   \n",
      "...             ...        ...        ...        ...        ...        ...   \n",
      "71039048   0.314622        0.0        0.0   0.000000   0.173279   0.000000   \n",
      "71039109   0.264265        0.0        0.0   0.084640   0.160080   0.000000   \n",
      "71039121   0.318708        0.0        0.0   0.087057   0.105298   0.000000   \n",
      "71039250   0.507148        0.0        0.0   0.000000   0.095869   0.000000   \n",
      "71039266   0.328791        0.0        0.0   0.000000   0.093899   0.000000   \n",
      "\n",
      "          comb_0007  comb_0008  comb_0009  comb_0010  comb_0011  comb_0012  \\\n",
      "COMID                                                                        \n",
      "71022153   0.480598   0.000000   0.446587   0.000000        0.0        0.0   \n",
      "71022160   1.000000   0.000000   0.000000   0.000000        0.0        0.0   \n",
      "71022164   0.937372   0.000000   0.000000   0.062628        0.0        0.0   \n",
      "71022165   0.719236   0.000000   0.000000   0.103968        0.0        0.0   \n",
      "71022168   1.000000   0.000000   0.000000   0.000000        0.0        0.0   \n",
      "...             ...        ...        ...        ...        ...        ...   \n",
      "71039048   0.000000   0.512098   0.000000   0.000000        0.0        0.0   \n",
      "71039109   0.000000   0.491015   0.000000   0.000000        0.0        0.0   \n",
      "71039121   0.000000   0.488937   0.000000   0.000000        0.0        0.0   \n",
      "71039250   0.000000   0.396983   0.000000   0.000000        0.0        0.0   \n",
      "71039266   0.000000   0.462167   0.000000   0.115143        0.0        0.0   \n",
      "\n",
      "          comb_0013  comb_0014  comb_0015  \n",
      "COMID                                      \n",
      "71022153        0.0        0.0        0.0  \n",
      "71022160        0.0        0.0        0.0  \n",
      "71022164        0.0        0.0        0.0  \n",
      "71022165        0.0        0.0        0.0  \n",
      "71022168        0.0        0.0        0.0  \n",
      "...             ...        ...        ...  \n",
      "71039048        0.0        0.0        0.0  \n",
      "71039109        0.0        0.0        0.0  \n",
      "71039121        0.0        0.0        0.0  \n",
      "71039250        0.0        0.0        0.0  \n",
      "71039266        0.0        0.0        0.0  \n",
      "\n",
      "[453 rows x 15 columns]\n",
      "    Combinations soil LULC  comb\n",
      "0    soil3 LULC1    3    1     1\n",
      "1    soil3 LULC5    3    5     2\n",
      "2    soil3 LULC6    3    6     3\n",
      "3    soil3 LULC8    3    8     4\n",
      "4   soil3 LULC10    3   10     5\n",
      "5   soil3 LULC14    3   14     6\n",
      "6   soil3 LULC15    3   15     7\n",
      "7   soil3 LULC16    3   16     8\n",
      "8   soil3 LULC17    3   17     9\n",
      "9   soil3 LULC18    3   18    10\n",
      "10  soil3 LULC19    3   19    11\n",
      "11   soil8 LULC1    8    1    12\n",
      "12  soil8 LULC10    8   10    13\n",
      "13  soil8 LULC16    8   16    14\n",
      "14  soil8 LULC19    8   19    15\n"
     ]
    }
   ],
   "source": [
    "# read the files for land cover and soil and do simple manupulation\n",
    "land_cover = pd.read_csv('./data/gis/West_stats_NA_NALCMS_landcover_2020_30m.csv')\n",
    "soil_type = pd.read_csv('./data/gis/West_stats_soil_classes.csv')\n",
    "\n",
    "# drop the 0 soil type which is mostly to represent water\n",
    "soil_type = soil_type.drop(columns = 'frac_0')\n",
    "# get the majority of the soil type for each subbasin\n",
    "soil_type   = gis.manipulating_fractions(soil_type,\n",
    "                                         df_mapping={'prefix': 'frac_'},\n",
    "                                         action = 'majority')\n",
    "\n",
    "# smooth land cover and remove below 5% land cover and renormalize\n",
    "land_cover = gis.manipulating_fractions(land_cover,\n",
    "                                         df_mapping={'prefix': 'frac_'},\n",
    "                                         action = 'normalize',\n",
    "                                         minimum_value = 0.05)\n",
    "\n",
    "# call the function\n",
    "result,report         = gis.intersect_df(soil_type, land_cover,\n",
    "                                     df_mappings={'df1': {'id': 'COMID', 'prefix':'frac_' , 'data_name':'soil'}, \n",
    "                                                  'df2': {'id': 'COMID', 'prefix':'frac_' , 'data_name':'LULC'}},\n",
    "                                     remove_zero_combinations = True)\n",
    "\n",
    "print(result) \n",
    "print(report)\n",
    "\n",
    "# saving the result and report\n",
    "result.to_csv('data/gis/HRU_frac.csv')\n",
    "report.to_csv('data/gis/HRU.csv')"
   ]
  },
  {
   "cell_type": "code",
   "execution_count": null,
   "id": "f5784e7d-026d-40e9-913e-54c302143f7c",
   "metadata": {},
   "outputs": [],
   "source": []
  }
 ],
 "metadata": {
  "kernelspec": {
   "display_name": "fhimp_venv",
   "language": "python",
   "name": "fhimp_venv"
  },
  "language_info": {
   "codemirror_mode": {
    "name": "ipython",
    "version": 3
   },
   "file_extension": ".py",
   "mimetype": "text/x-python",
   "name": "python",
   "nbconvert_exporter": "python",
   "pygments_lexer": "ipython3",
   "version": "3.10.2"
  }
 },
 "nbformat": 4,
 "nbformat_minor": 5
}
